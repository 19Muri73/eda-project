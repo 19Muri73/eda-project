{
 "cells": [
  {
   "cell_type": "code",
   "execution_count": 2,
   "metadata": {},
   "outputs": [],
   "source": [
    "import pandas as pd\n",
    "import psycopg2\n",
    "import os\n",
    "from dotenv import load_dotenv\n",
    "import numpy as np\n",
    "\n",
    "import pandas as pd\n",
    "from geopy.distance import geodesic\n",
    "import math\n",
    "import seaborn as sns\n",
    "import matplotlib.pyplot as plt\n",
    "from matplotlib.ticker import FuncFormatter\n",
    "import plotly.express as px\n",
    "from scipy.stats import linregress\n",
    "import statsmodels.api as sm\n",
    "from statsmodels.formula.api import ols\n",
    "import statsmodels.formula.api as smf"
   ]
  },
  {
   "cell_type": "code",
   "execution_count": 3,
   "metadata": {},
   "outputs": [
    {
     "name": "stderr",
     "output_type": "stream",
     "text": [
      "/var/folders/lk/gq8wby6x3fv6n16s31xl4dg00000gn/T/ipykernel_37384/1898604628.py:19: UserWarning: pandas only supports SQLAlchemy connectable (engine/connection) or database string URI or sqlite3 DBAPI2 connection. Other DBAPI2 objects are not tested. Please consider using SQLAlchemy.\n",
      "  df = pd.read_sql(query_string, conn)\n"
     ]
    }
   ],
   "source": [
    "load_dotenv()\n",
    "\n",
    "DATABASE = os.getenv('DATABASE')\n",
    "USER_DB = os.getenv('USER_DB')\n",
    "PASSWORD = os.getenv('PASSWORD')\n",
    "HOST = os.getenv('HOST')\n",
    "PORT = os.getenv('PORT')\n",
    "\n",
    "conn = psycopg2.connect(\n",
    "    database=DATABASE,\n",
    "    user=USER_DB,\n",
    "    password=PASSWORD,\n",
    "    host=HOST,\n",
    "    port=PORT\n",
    ")\n",
    "\n",
    "\n",
    "query_string = \"SELECT * FROM  eda.king_county_house_details d JOIN eda.king_county_house_sales s  ON s.house_id = d.id\"\n",
    "df = pd.read_sql(query_string, conn)\n",
    "df = df[df['zipcode'].astype(str).str.startswith('981')]\n"
   ]
  },
  {
   "cell_type": "code",
   "execution_count": 4,
   "metadata": {},
   "outputs": [
    {
     "data": {
      "application/vnd.microsoft.datawrangler.viewer.v0+json": {
       "columns": [
        {
         "name": "index",
         "rawType": "object",
         "type": "string"
        },
        {
         "name": "0",
         "rawType": "object",
         "type": "unknown"
        }
       ],
       "ref": "758a4f51-a6fa-4e94-9b9f-3577077e7fc2",
       "rows": [
        [
         "id",
         "int64"
        ],
        [
         "bedrooms",
         "float64"
        ],
        [
         "bathrooms",
         "float64"
        ],
        [
         "sqft_living",
         "float64"
        ],
        [
         "sqft_lot",
         "float64"
        ],
        [
         "floors",
         "float64"
        ],
        [
         "waterfront",
         "float64"
        ],
        [
         "view",
         "float64"
        ],
        [
         "condition",
         "int64"
        ],
        [
         "grade",
         "int64"
        ],
        [
         "sqft_above",
         "float64"
        ],
        [
         "sqft_basement",
         "float64"
        ],
        [
         "yr_built",
         "int64"
        ],
        [
         "yr_renovated",
         "float64"
        ],
        [
         "zipcode",
         "int64"
        ],
        [
         "lat",
         "float64"
        ],
        [
         "long",
         "float64"
        ],
        [
         "sqft_living15",
         "float64"
        ],
        [
         "sqft_lot15",
         "float64"
        ],
        [
         "date",
         "object"
        ],
        [
         "price",
         "float64"
        ],
        [
         "house_id",
         "int64"
        ],
        [
         "id",
         "int64"
        ]
       ],
       "shape": {
        "columns": 1,
        "rows": 23
       }
      },
      "text/plain": [
       "id                 int64\n",
       "bedrooms         float64\n",
       "bathrooms        float64\n",
       "sqft_living      float64\n",
       "sqft_lot         float64\n",
       "floors           float64\n",
       "waterfront       float64\n",
       "view             float64\n",
       "condition          int64\n",
       "grade              int64\n",
       "sqft_above       float64\n",
       "sqft_basement    float64\n",
       "yr_built           int64\n",
       "yr_renovated     float64\n",
       "zipcode            int64\n",
       "lat              float64\n",
       "long             float64\n",
       "sqft_living15    float64\n",
       "sqft_lot15       float64\n",
       "date              object\n",
       "price            float64\n",
       "house_id           int64\n",
       "id                 int64\n",
       "dtype: object"
      ]
     },
     "execution_count": 4,
     "metadata": {},
     "output_type": "execute_result"
    }
   ],
   "source": [
    "df.dtypes"
   ]
  },
  {
   "cell_type": "code",
   "execution_count": 5,
   "metadata": {},
   "outputs": [
    {
     "name": "stdout",
     "output_type": "stream",
     "text": [
      "                 sum_sq      df         F  PR(>F)\n",
      "C(zipcode)  1553.793716    28.0  64.90266     0.0\n",
      "Residual    7647.238268  8944.0       NaN     NaN\n"
     ]
    }
   ],
   "source": [
    "model = ols('grade ~ C(zipcode)', data=df).fit()\n",
    "anova_table = sm.stats.anova_lm(model, typ=2)\n",
    "\n",
    "print(anova_table)"
   ]
  },
  {
   "cell_type": "code",
   "execution_count": null,
   "metadata": {},
   "outputs": [
    {
     "name": "stdout",
     "output_type": "stream",
     "text": [
      "                            OLS Regression Results                            \n",
      "==============================================================================\n",
      "Dep. Variable:                  grade   R-squared:                       0.169\n",
      "Model:                            OLS   Adj. R-squared:                  0.166\n",
      "Method:                 Least Squares   F-statistic:                     64.90\n",
      "Date:                Thu, 10 Jul 2025   Prob (F-statistic):               0.00\n",
      "Time:                        22:30:21   Log-Likelihood:                -12015.\n",
      "No. Observations:                8973   AIC:                         2.409e+04\n",
      "Df Residuals:                    8944   BIC:                         2.429e+04\n",
      "Df Model:                          28                                         \n",
      "Covariance Type:            nonrobust                                         \n",
      "=======================================================================================\n",
      "                          coef    std err          t      P>|t|      [0.025      0.975]\n",
      "---------------------------------------------------------------------------------------\n",
      "Intercept               8.2981      0.091     91.518      0.000       8.120       8.476\n",
      "C(zipcode)[T.98103]    -0.8878      0.098     -9.041      0.000      -1.080      -0.695\n",
      "C(zipcode)[T.98105]    -0.4596      0.109     -4.204      0.000      -0.674      -0.245\n",
      "C(zipcode)[T.98106]    -1.4324      0.104    -13.800      0.000      -1.636      -1.229\n",
      "C(zipcode)[T.98107]    -0.8733      0.107     -8.166      0.000      -1.083      -0.664\n",
      "C(zipcode)[T.98108]    -1.2819      0.113    -11.323      0.000      -1.504      -1.060\n",
      "C(zipcode)[T.98109]    -0.2797      0.127     -2.207      0.027      -0.528      -0.031\n",
      "C(zipcode)[T.98112]     0.1443      0.107      1.352      0.177      -0.065       0.354\n",
      "C(zipcode)[T.98115]    -0.9362      0.098     -9.511      0.000      -1.129      -0.743\n",
      "C(zipcode)[T.98116]    -0.7284      0.104     -7.005      0.000      -0.932      -0.525\n",
      "C(zipcode)[T.98117]    -1.0160      0.099    -10.280      0.000      -1.210      -0.822\n",
      "C(zipcode)[T.98118]    -1.3217      0.100    -13.279      0.000      -1.517      -1.127\n",
      "C(zipcode)[T.98119]    -0.2763      0.113     -2.436      0.015      -0.499      -0.054\n",
      "C(zipcode)[T.98122]    -0.5532      0.106     -5.235      0.000      -0.760      -0.346\n",
      "C(zipcode)[T.98125]    -1.1220      0.102    -11.049      0.000      -1.321      -0.923\n",
      "C(zipcode)[T.98126]    -1.2670      0.103    -12.285      0.000      -1.469      -1.065\n",
      "C(zipcode)[T.98133]    -1.1743      0.100    -11.770      0.000      -1.370      -0.979\n",
      "C(zipcode)[T.98136]    -0.8950      0.107     -8.356      0.000      -1.105      -0.685\n",
      "C(zipcode)[T.98144]    -0.8433      0.104     -8.147      0.000      -1.046      -0.640\n",
      "C(zipcode)[T.98146]    -1.4752      0.106    -13.945      0.000      -1.683      -1.268\n",
      "C(zipcode)[T.98148]    -1.3507      0.152     -8.864      0.000      -1.649      -1.052\n",
      "C(zipcode)[T.98155]    -1.1277      0.101    -11.200      0.000      -1.325      -0.930\n",
      "C(zipcode)[T.98166]    -0.9044      0.108     -8.401      0.000      -1.115      -0.693\n",
      "C(zipcode)[T.98168]    -1.7888      0.107    -16.754      0.000      -1.998      -1.579\n",
      "C(zipcode)[T.98177]    -0.3216      0.108     -2.989      0.003      -0.532      -0.111\n",
      "C(zipcode)[T.98178]    -1.4813      0.107    -13.822      0.000      -1.691      -1.271\n",
      "C(zipcode)[T.98188]    -1.2613      0.120    -10.472      0.000      -1.497      -1.025\n",
      "C(zipcode)[T.98198]    -1.1945      0.106    -11.249      0.000      -1.403      -0.986\n",
      "C(zipcode)[T.98199]    -0.2855      0.104     -2.732      0.006      -0.490      -0.081\n",
      "==============================================================================\n",
      "Omnibus:                     1071.126   Durbin-Watson:                   1.883\n",
      "Prob(Omnibus):                  0.000   Jarque-Bera (JB):             2264.843\n",
      "Skew:                           0.740   Prob(JB):                         0.00\n",
      "Kurtosis:                       4.967   Cond. No.                         51.4\n",
      "==============================================================================\n",
      "\n",
      "Notes:\n",
      "[1] Standard Errors assume that the covariance matrix of the errors is correctly specified.\n"
     ]
    },
    {
     "name": "stderr",
     "output_type": "stream",
     "text": [
      "/var/folders/lk/gq8wby6x3fv6n16s31xl4dg00000gn/T/ipykernel_37384/1844174327.py:18: FutureWarning: \n",
      "\n",
      "Passing `palette` without assigning `hue` is deprecated and will be removed in v0.14.0. Assign the `x` variable to `hue` and set `legend=False` for the same effect.\n",
      "\n",
      "  sns.boxplot(\n"
     ]
    },
    {
     "data": {
      "image/png": "[encoded data removed]",
      "text/plain": [
       "<Figure size 1600x600 with 1 Axes>"
      ]
     },
     "metadata": {},
     "output_type": "display_data"
    },
    {
     "data": {
      "image/png": "[encoded data removed]",
      "text/plain": [
       "<Figure size 1000x500 with 1 Axes>"
      ]
     },
     "metadata": {},
     "output_type": "display_data"
    },
    {
     "name": "stderr",
     "output_type": "stream",
     "text": [
      "/var/folders/lk/gq8wby6x3fv6n16s31xl4dg00000gn/T/ipykernel_37384/1844174327.py:53: DeprecationWarning: *scatter_mapbox* is deprecated! Use *scatter_map* instead. Learn more at: https://plotly.com/python/mapbox-to-maplibre/\n",
      "  fig = px.scatter_mapbox(\n"
     ]
    },
    {
     "data": {
      "application/vnd.plotly.v1+json": {
       "config": {
        "plotlyServerURL": "https://plot.ly"
       },
       "data": [
        {
         "customdata": {
          "bdata": "ip3YiZ2YIECWwKb9ZAkgQGqVL4Z/4iBAkYUsZCELIEDa2sXndQYgQA==",
          "dtype": "f8",
          "shape": "5, 1"
         },
         "hovertemplate": "<b>%{hovertext}</b><br><br>cluster=High-Grade >=8<br>avg_grade=%{customdata[0]}<br>lat=%{lat}<br>lng=%{lon}<extra></extra>",
         "hovertext": {
          "bdata": "AAAAAGDz90AAAAAA0PP3QAAAAAAA9PdAAAAAAHD090AAAAAAcPn3QA==",
          "dtype": "f8"
         },
         "lat": {
          "bdata": "JzEIrBzSR0Bv8IXJVNFHQLprCfmgz0dA4JwRpb3RR0CIY13cRtNHQA==",
          "dtype": "f8"
         },
         "legendgroup": "High-Grade >=8",
         "lon": {
          "bdata": "XI/C9SiUXsA730+Nl5ZewGq8dJMYlF7A16NwPQqXXsAbL90kBplewA==",
          "dtype": "f8"
         },
         "marker": {
          "color": "#636efa",
          "size": {
           "bdata": "ip3YiZ2YIECWwKb9ZAkgQGqVL4Z/4iBAkYUsZCELIEDa2sXndQYgQA==",
           "dtype": "f8"
          },
          "sizemode": "area",
          "sizeref": 0.021105947955390336
         },
         "mode": "markers",
         "name": "High-Grade >=8",
         "showlegend": true,
         "subplot": "mapbox",
         "type": "scattermapbox"
        },
        {
         "customdata": {
          "bdata": "6WYDbCWkHUCW8hvbjFofQMdEeqBydhtAMHvA7AGzHUARQgghhBAcQPWeunGbch1AR+p1pF5HHkBCIsY03iAdQEFNhWjD5xtAQasvFbT6HkCRgVmZQ7QcQHIBr7fRHxxASvrWqrN+HEBO0Ab/tpwdQAdhste50R1Aq6qqqqpKG0CivIbyGsobQHTFLEd+rhxAZTKZTCaTHUBJv1NIhAkaQOjn5+fn5x9AcUJKnmVEG0CmpaWlpSUcQKEO6qAOahxA",
          "dtype": "f8",
          "shape": "24, 1"
         },
         "hovertemplate": "<b>%{hovertext}</b><br><br>cluster=Low-Grade<br>avg_grade=%{customdata[0]}<br>lat=%{lat}<br>lng=%{lon}<extra></extra>",
         "hovertext": {
          "bdata": "AAAAAHDz90AAAAAAkPP3QAAAAACg8/dAAAAAALDz90AAAAAAwPP3QAAAAAAw9PdAAAAAAED090AAAAAAUPT3QAAAAABg9PdAAAAAAKD090AAAAAA0PT3QAAAAADg9PdAAAAAAFD190AAAAAAgPX3QAAAAAAA9vdAAAAAACD290AAAAAAQPb3QAAAAACw9vdAAAAAAGD390AAAAAAgPf3QAAAAAAQ+PdAAAAAACD490AAAAAAwPj3QAAAAABg+fdA",
          "dtype": "f8"
         },
         "lat": {
          "bdata": "vjCZKhjVR0DOGVHaG9RHQMKGp1fKwkdA9ihcj8LVR0BL6gQ0EcZHQLgehetR2EdARwN4CyTIR0DIBz2bVddHQEvqBDQRxkdAvAUSFD/OR0A/NV66SdxHQJp3nKIjyUdAUrgehevZR0Df4AuTqcJHQG+BBMWPyUdA097gC5PBR0CDUUmdgLZHQJ0Rpb3B30dAKVyPwvW4R0BkO99Pjb9HQKUsQxzr4kdAjNtoAG/BR0A4+MJkqrhHQCPb+X5qtEdA",
          "dtype": "f8"
         },
         "legendgroup": "Low-Grade",
         "lon": {
          "bdata": "y6FFtvOVXsBEi2zn+5FewAIrhxbZll7A8KfGSzeZXsB7FK5H4ZJewKabxCCwkl7A8KfGSzeZXsBkO99PjZdewLTIdr6fkl7AXrpJDAKTXsAj2/l+apRewAAAAAAAmF7A5/up8dKVXsD+1HjpJplewPp+arx0k17AIbByaJGVXsD4U+Olm5RewDMzMzMzk17Ake18PzWWXsAIrBxaZJNewGIQWDm0mF7AnMQgsHKQXsCoxks3iZFewFyPwvUolF7A",
          "dtype": "f8"
         },
         "marker": {
          "color": "#EF553B",
          "size": {
           "bdata": "6WYDbCWkHUCW8hvbjFofQMdEeqBydhtAMHvA7AGzHUARQgghhBAcQPWeunGbch1AR+p1pF5HHkBCIsY03iAdQEFNhWjD5xtAQasvFbT6HkCRgVmZQ7QcQHIBr7fRHxxASvrWqrN+HEBO0Ab/tpwdQAdhste50R1Aq6qqqqpKG0CivIbyGsobQHTFLEd+rhxAZTKZTCaTHUBJv1NIhAkaQOjn5+fn5x9AcUJKnmVEG0CmpaWlpSUcQKEO6qAOahxA",
           "dtype": "f8"
          },
          "sizemode": "area",
          "sizeref": 0.021105947955390336
         },
         "mode": "markers",
         "name": "Low-Grade",
         "showlegend": true,
         "subplot": "mapbox",
         "type": "scattermapbox"
        }
       ],
       "layout": {
        "legend": {
         "itemsizing": "constant",
         "title": {
          "text": "cluster"
         },
         "tracegroupgap": 0
        },
        "mapbox": {
         "center": {
          "lat": 47.593041379310336,
          "lon": -122.33165517241379
         },
         "domain": {
          "x": [
           0,
           1
          ],
          "y": [
           0,
           1
          ]
         },
         "style": "carto-positron",
         "zoom": 10
        },
        "template": {
         "data": {
          "bar": [
           {
            "error_x": {
             "color": "#2a3f5f"
            },
            "error_y": {
             "color": "#2a3f5f"
            },
            "marker": {
             "line": {
              "color": "#E5ECF6",
              "width": 0.5
             },
             "pattern": {
              "fillmode": "overlay",
              "size": 10,
              "solidity": 0.2
             }
            },
            "type": "bar"
           }
          ],
          "barpolar": [
           {
            "marker": {
             "line": {
              "color": "#E5ECF6",
              "width": 0.5
             },
             "pattern": {
              "fillmode": "overlay",
              "size": 10,
              "solidity": 0.2
             }
            },
            "type": "barpolar"
           }
          ],
          "carpet": [
           {
            "aaxis": {
             "endlinecolor": "#2a3f5f",
             "gridcolor": "white",
             "linecolor": "white",
             "minorgridcolor": "white",
             "startlinecolor": "#2a3f5f"
            },
            "baxis": {
             "endlinecolor": "#2a3f5f",
             "gridcolor": "white",
             "linecolor": "white",
             "minorgridcolor": "white",
             "startlinecolor": "#2a3f5f"
            },
            "type": "carpet"
           }
          ],
          "choropleth": [
           {
            "colorbar": {
             "outlinewidth": 0,
             "ticks": ""
            },
            "type": "choropleth"
           }
          ],
          "contour": [
           {
            "colorbar": {
             "outlinewidth": 0,
             "ticks": ""
            },
            "colorscale": [
             [
              0,
              "#0d0887"
             ],
             [
              0.1111111111111111,
              "#46039f"
             ],
             [
              0.2222222222222222,
              "#7201a8"
             ],
             [
              0.3333333333333333,
              "#9c179e"
             ],
             [
              0.4444444444444444,
              "#bd3786"
             ],
             [
              0.5555555555555556,
              "#d8576b"
             ],
             [
              0.6666666666666666,
              "#ed7953"
             ],
             [
              0.7777777777777778,
              "#fb9f3a"
             ],
             [
              0.8888888888888888,
              "#fdca26"
             ],
             [
              1,
              "#f0f921"
             ]
            ],
            "type": "contour"
           }
          ],
          "contourcarpet": [
           {
            "colorbar": {
             "outlinewidth": 0,
             "ticks": ""
            },
            "type": "contourcarpet"
           }
          ],
          "heatmap": [
           {
            "colorbar": {
             "outlinewidth": 0,
             "ticks": ""
            },
            "colorscale": [
             [
              0,
              "#0d0887"
             ],
             [
              0.1111111111111111,
              "#46039f"
             ],
             [
              0.2222222222222222,
              "#7201a8"
             ],
             [
              0.3333333333333333,
              "#9c179e"
             ],
             [
              0.4444444444444444,
              "#bd3786"
             ],
             [
              0.5555555555555556,
              "#d8576b"
             ],
             [
              0.6666666666666666,
              "#ed7953"
             ],
             [
              0.7777777777777778,
              "#fb9f3a"
             ],
             [
              0.8888888888888888,
              "#fdca26"
             ],
             [
              1,
              "#f0f921"
             ]
            ],
            "type": "heatmap"
           }
          ],
          "histogram": [
           {
            "marker": {
             "pattern": {
              "fillmode": "overlay",
              "size": 10,
              "solidity": 0.2
             }
            },
            "type": "histogram"
           }
          ],
          "histogram2d": [
           {
            "colorbar": {
             "outlinewidth": 0,
             "ticks": ""
            },
            "colorscale": [
             [
              0,
              "#0d0887"
             ],
             [
              0.1111111111111111,
              "#46039f"
             ],
             [
              0.2222222222222222,
              "#7201a8"
             ],
             [
              0.3333333333333333,
              "#9c179e"
             ],
             [
              0.4444444444444444,
              "#bd3786"
             ],
             [
              0.5555555555555556,
              "#d8576b"
             ],
             [
              0.6666666666666666,
              "#ed7953"
             ],
             [
              0.7777777777777778,
              "#fb9f3a"
             ],
             [
              0.8888888888888888,
              "#fdca26"
             ],
             [
              1,
              "#f0f921"
             ]
            ],
            "type": "histogram2d"
           }
          ],
          "histogram2dcontour": [
           {
            "colorbar": {
             "outlinewidth": 0,
             "ticks": ""
            },
            "colorscale": [
             [
              0,
              "#0d0887"
             ],
             [
              0.1111111111111111,
              "#46039f"
             ],
             [
              0.2222222222222222,
              "#7201a8"
             ],
             [
              0.3333333333333333,
              "#9c179e"
             ],
             [
              0.4444444444444444,
              "#bd3786"
             ],
             [
              0.5555555555555556,
              "#d8576b"
             ],
             [
              0.6666666666666666,
              "#ed7953"
             ],
             [
              0.7777777777777778,
              "#fb9f3a"
             ],
             [
              0.8888888888888888,
              "#fdca26"
             ],
             [
              1,
              "#f0f921"
             ]
            ],
            "type": "histogram2dcontour"
           }
          ],
          "mesh3d": [
           {
            "colorbar": {
             "outlinewidth": 0,
             "ticks": ""
            },
            "type": "mesh3d"
           }
          ],
          "parcoords": [
           {
            "line": {
             "colorbar": {
              "outlinewidth": 0,
              "ticks": ""
             }
            },
            "type": "parcoords"
           }
          ],
          "pie": [
           {
            "automargin": true,
            "type": "pie"
           }
          ],
          "scatter": [
           {
            "fillpattern": {
             "fillmode": "overlay",
             "size": 10,
             "solidity": 0.2
            },
            "type": "scatter"
           }
          ],
          "scatter3d": [
           {
            "line": {
             "colorbar": {
              "outlinewidth": 0,
              "ticks": ""
             }
            },
            "marker": {
             "colorbar": {
              "outlinewidth": 0,
              "ticks": ""
             }
            },
            "type": "scatter3d"
           }
          ],
          "scattercarpet": [
           {
            "marker": {
             "colorbar": {
              "outlinewidth": 0,
              "ticks": ""
             }
            },
            "type": "scattercarpet"
           }
          ],
          "scattergeo": [
           {
            "marker": {
             "colorbar": {
              "outlinewidth": 0,
              "ticks": ""
             }
            },
            "type": "scattergeo"
           }
          ],
          "scattergl": [
           {
            "marker": {
             "colorbar": {
              "outlinewidth": 0,
              "ticks": ""
             }
            },
            "type": "scattergl"
           }
          ],
          "scattermap": [
           {
            "marker": {
             "colorbar": {
              "outlinewidth": 0,
              "ticks": ""
             }
            },
            "type": "scattermap"
           }
          ],
          "scattermapbox": [
           {
            "marker": {
             "colorbar": {
              "outlinewidth": 0,
              "ticks": ""
             }
            },
            "type": "scattermapbox"
           }
          ],
          "scatterpolar": [
           {
            "marker": {
             "colorbar": {
              "outlinewidth": 0,
              "ticks": ""
             }
            },
            "type": "scatterpolar"
           }
          ],
          "scatterpolargl": [
           {
            "marker": {
             "colorbar": {
              "outlinewidth": 0,
              "ticks": ""
             }
            },
            "type": "scatterpolargl"
           }
          ],
          "scatterternary": [
           {
            "marker": {
             "colorbar": {
              "outlinewidth": 0,
              "ticks": ""
             }
            },
            "type": "scatterternary"
           }
          ],
          "surface": [
           {
            "colorbar": {
             "outlinewidth": 0,
             "ticks": ""
            },
            "colorscale": [
             [
              0,
              "#0d0887"
             ],
             [
              0.1111111111111111,
              "#46039f"
             ],
             [
              0.2222222222222222,
              "#7201a8"
             ],
             [
              0.3333333333333333,
              "#9c179e"
             ],
             [
              0.4444444444444444,
              "#bd3786"
             ],
             [
              0.5555555555555556,
              "#d8576b"
             ],
             [
              0.6666666666666666,
              "#ed7953"
             ],
             [
              0.7777777777777778,
              "#fb9f3a"
             ],
             [
              0.8888888888888888,
              "#fdca26"
             ],
             [
              1,
              "#f0f921"
             ]
            ],
            "type": "surface"
           }
          ],
          "table": [
           {
            "cells": {
             "fill": {
              "color": "#EBF0F8"
             },
             "line": {
              "color": "white"
             }
            },
            "header": {
             "fill": {
              "color": "#C8D4E3"
             },
             "line": {
              "color": "white"
             }
            },
            "type": "table"
           }
          ]
         },
         "layout": {
          "annotationdefaults": {
           "arrowcolor": "#2a3f5f",
           "arrowhead": 0,
           "arrowwidth": 1
          },
          "autotypenumbers": "strict",
          "coloraxis": {
           "colorbar": {
            "outlinewidth": 0,
            "ticks": ""
           }
          },
          "colorscale": {
           "diverging": [
            [
             0,
             "#8e0152"
            ],
            [
             0.1,
             "#c51b7d"
            ],
            [
             0.2,
             "#de77ae"
            ],
            [
             0.3,
             "#f1b6da"
            ],
            [
             0.4,
             "#fde0ef"
            ],
            [
             0.5,
             "#f7f7f7"
            ],
            [
             0.6,
             "#e6f5d0"
            ],
            [
             0.7,
             "#b8e186"
            ],
            [
             0.8,
             "#7fbc41"
            ],
            [
             0.9,
             "#4d9221"
            ],
            [
             1,
             "#276419"
            ]
           ],
           "sequential": [
            [
             0,
             "#0d0887"
            ],
            [
             0.1111111111111111,
             "#46039f"
            ],
            [
             0.2222222222222222,
             "#7201a8"
            ],
            [
             0.3333333333333333,
             "#9c179e"
            ],
            [
             0.4444444444444444,
             "#bd3786"
            ],
            [
             0.5555555555555556,
             "#d8576b"
            ],
            [
             0.6666666666666666,
             "#ed7953"
            ],
            [
             0.7777777777777778,
             "#fb9f3a"
            ],
            [
             0.8888888888888888,
             "#fdca26"
            ],
            [
             1,
             "#f0f921"
            ]
           ],
           "sequentialminus": [
            [
             0,
             "#0d0887"
            ],
            [
             0.1111111111111111,
             "#46039f"
            ],
            [
             0.2222222222222222,
             "#7201a8"
            ],
            [
             0.3333333333333333,
             "#9c179e"
            ],
            [
             0.4444444444444444,
             "#bd3786"
            ],
            [
             0.5555555555555556,
             "#d8576b"
            ],
            [
             0.6666666666666666,
             "#ed7953"
            ],
            [
             0.7777777777777778,
             "#fb9f3a"
            ],
            [
             0.8888888888888888,
             "#fdca26"
            ],
            [
             1,
             "#f0f921"
            ]
           ]
          },
          "colorway": [
           "#636efa",
           "#EF553B",
           "#00cc96",
           "#ab63fa",
           "#FFA15A",
           "#19d3f3",
           "#FF6692",
           "#B6E880",
           "#FF97FF",
           "#FECB52"
          ],
          "font": {
           "color": "#2a3f5f"
          },
          "geo": {
           "bgcolor": "white",
           "lakecolor": "white",
           "landcolor": "#E5ECF6",
           "showlakes": true,
           "showland": true,
           "subunitcolor": "white"
          },
          "hoverlabel": {
           "align": "left"
          },
          "hovermode": "closest",
          "mapbox": {
           "style": "light"
          },
          "paper_bgcolor": "white",
          "plot_bgcolor": "#E5ECF6",
          "polar": {
           "angularaxis": {
            "gridcolor": "white",
            "linecolor": "white",
            "ticks": ""
           },
           "bgcolor": "#E5ECF6",
           "radialaxis": {
            "gridcolor": "white",
            "linecolor": "white",
            "ticks": ""
           }
          },
          "scene": {
           "xaxis": {
            "backgroundcolor": "#E5ECF6",
            "gridcolor": "white",
            "gridwidth": 2,
            "linecolor": "white",
            "showbackground": true,
            "ticks": "",
            "zerolinecolor": "white"
           },
           "yaxis": {
            "backgroundcolor": "#E5ECF6",
            "gridcolor": "white",
            "gridwidth": 2,
            "linecolor": "white",
            "showbackground": true,
            "ticks": "",
            "zerolinecolor": "white"
           },
           "zaxis": {
            "backgroundcolor": "#E5ECF6",
            "gridcolor": "white",
            "gridwidth": 2,
            "linecolor": "white",
            "showbackground": true,
            "ticks": "",
            "zerolinecolor": "white"
           }
          },
          "shapedefaults": {
           "line": {
            "color": "#2a3f5f"
           }
          },
          "ternary": {
           "aaxis": {
            "gridcolor": "white",
            "linecolor": "white",
            "ticks": ""
           },
           "baxis": {
            "gridcolor": "white",
            "linecolor": "white",
            "ticks": ""
           },
           "bgcolor": "#E5ECF6",
           "caxis": {
            "gridcolor": "white",
            "linecolor": "white",
            "ticks": ""
           }
          },
          "title": {
           "x": 0.05
          },
          "xaxis": {
           "automargin": true,
           "gridcolor": "white",
           "linecolor": "white",
           "ticks": "",
           "title": {
            "standoff": 15
           },
           "zerolinecolor": "white",
           "zerolinewidth": 2
          },
          "yaxis": {
           "automargin": true,
           "gridcolor": "white",
           "linecolor": "white",
           "ticks": "",
           "title": {
            "standoff": 15
           },
           "zerolinecolor": "white",
           "zerolinewidth": 2
          }
         }
        },
        "title": {
         "text": "High-Grade vs. Low-Grade ZIP Clusters"
        }
       }
      }
     },
     "metadata": {},
     "output_type": "display_data"
    }
   ],
   "source": [
    "model = smf.ols('grade ~ C(zipcode)', data=df).fit()\n",
    "print(model.summary())\n",
    "grouped = df.groupby('zipcode')['grade'].agg(\n",
    "    median='median',\n",
    "    iqr=lambda x: x.quantile(0.75) - x.quantile(0.25)\n",
    ").sort_values(['median', 'iqr'])\n",
    "\n",
    "order = grouped.index\n",
    "plt.figure(figsize=(16, 6))\n",
    "\n",
    "\n",
    "sns.boxplot(\n",
    "    x='zipcode',\n",
    "    y='grade',\n",
    "    data=df,  \n",
    "    palette='coolwarm',\n",
    "    order=order\n",
    ")\n",
    "\n",
    "plt.title('Distribution of Grade by ZIP Code')\n",
    "plt.xlabel('ZIP Code')\n",
    "plt.ylabel('Grade')\n",
    "plt.xticks(rotation=45)  \n",
    "plt.tight_layout()\n",
    "plt.show()\n",
    "\n",
    "\n",
    "plt.figure(figsize=(10,5))\n",
    "sns.histplot(df['grade'], bins=20, kde=True)\n",
    "plt.title('Histogram with Mode')\n",
    "plt.xlabel('Grade')\n",
    "plt.ylabel('Count')\n",
    "plt.show()\n",
    "\n",
    "zip_stats = (\n",
    "    df.groupby('zipcode')\n",
    "    .agg(\n",
    "        avg_grade=('grade', 'mean'),\n",
    "        lat=('lat', 'first'),\n",
    "        lng=('long', 'first')\n",
    "    )\n",
    "    .reset_index()\n",
    ")\n",
    "zip_stats['cluster'] = zip_stats['avg_grade'].apply(\n",
    "    lambda x: 'High-Grade >=8' if x >= 8 else 'Low-Grade'\n",
    ")\n",
    "fig = px.scatter_mapbox(\n",
    "    zip_stats,\n",
    "    lat=\"lat\",\n",
    "    lon=\"lng\",\n",
    "    color=\"cluster\",\n",
    "    size=\"avg_grade\",  \n",
    "    hover_name=\"zipcode\",\n",
    "    hover_data={\"avg_grade\": True},\n",
    "    mapbox_style=\"carto-positron\",\n",
    "    zoom=10,\n",
    "    title=\"High-Grade vs. Low-Grade ZIP Clusters\"\n",
    ")\n",
    "\n",
    "fig.show()\n",
    "\n"
   ]
  },
  {
   "cell_type": "code",
   "execution_count": 7,
   "metadata": {},
   "outputs": [
    {
     "data": {
      "application/vnd.microsoft.datawrangler.viewer.v0+json": {
       "columns": [
        {
         "name": "index",
         "rawType": "int64",
         "type": "integer"
        },
        {
         "name": "zipcode",
         "rawType": "int64",
         "type": "integer"
        },
        {
         "name": "cluster",
         "rawType": "object",
         "type": "string"
        }
       ],
       "ref": "621b7e0d-fa6c-4874-a715-ddd72bcce432",
       "rows": [
        [
         "0",
         "98102",
         "High-Grade >=8"
        ],
        [
         "12",
         "98119",
         "High-Grade >=8"
        ],
        [
         "7",
         "98112",
         "High-Grade >=8"
        ],
        [
         "6",
         "98109",
         "High-Grade >=8"
        ],
        [
         "28",
         "98199",
         "High-Grade >=8"
        ],
        [
         "5",
         "98108",
         "Low-Grade"
        ],
        [
         "26",
         "98188",
         "Low-Grade"
        ],
        [
         "25",
         "98178",
         "Low-Grade"
        ],
        [
         "24",
         "98177",
         "Low-Grade"
        ],
        [
         "23",
         "98168",
         "Low-Grade"
        ],
        [
         "22",
         "98166",
         "Low-Grade"
        ],
        [
         "21",
         "98155",
         "Low-Grade"
        ],
        [
         "20",
         "98148",
         "Low-Grade"
        ],
        [
         "19",
         "98146",
         "Low-Grade"
        ],
        [
         "18",
         "98144",
         "Low-Grade"
        ],
        [
         "17",
         "98136",
         "Low-Grade"
        ],
        [
         "16",
         "98133",
         "Low-Grade"
        ],
        [
         "15",
         "98126",
         "Low-Grade"
        ],
        [
         "27",
         "98198",
         "Low-Grade"
        ],
        [
         "13",
         "98122",
         "Low-Grade"
        ],
        [
         "1",
         "98103",
         "Low-Grade"
        ],
        [
         "11",
         "98118",
         "Low-Grade"
        ],
        [
         "10",
         "98117",
         "Low-Grade"
        ],
        [
         "9",
         "98116",
         "Low-Grade"
        ],
        [
         "8",
         "98115",
         "Low-Grade"
        ],
        [
         "2",
         "98105",
         "Low-Grade"
        ],
        [
         "3",
         "98106",
         "Low-Grade"
        ],
        [
         "4",
         "98107",
         "Low-Grade"
        ],
        [
         "14",
         "98125",
         "Low-Grade"
        ]
       ],
       "shape": {
        "columns": 2,
        "rows": 29
       }
      },
      "text/html": [
       "<div>\n",
       "<style scoped>\n",
       "    .dataframe tbody tr th:only-of-type {\n",
       "        vertical-align: middle;\n",
       "    }\n",
       "\n",
       "    .dataframe tbody tr th {\n",
       "        vertical-align: top;\n",
       "    }\n",
       "\n",
       "    .dataframe thead th {\n",
       "        text-align: right;\n",
       "    }\n",
       "</style>\n",
       "<table border=\"1\" class=\"dataframe\">\n",
       "  <thead>\n",
       "    <tr style=\"text-align: right;\">\n",
       "      <th></th>\n",
       "      <th>zipcode</th>\n",
       "      <th>cluster</th>\n",
       "    </tr>\n",
       "  </thead>\n",
       "  <tbody>\n",
       "    <tr>\n",
       "      <th>0</th>\n",
       "      <td>98102</td>\n",
       "      <td>High-Grade &gt;=8</td>\n",
       "    </tr>\n",
       "    <tr>\n",
       "      <th>12</th>\n",
       "      <td>98119</td>\n",
       "      <td>High-Grade &gt;=8</td>\n",
       "    </tr>\n",
       "    <tr>\n",
       "      <th>7</th>\n",
       "      <td>98112</td>\n",
       "      <td>High-Grade &gt;=8</td>\n",
       "    </tr>\n",
       "    <tr>\n",
       "      <th>6</th>\n",
       "      <td>98109</td>\n",
       "      <td>High-Grade &gt;=8</td>\n",
       "    </tr>\n",
       "    <tr>\n",
       "      <th>28</th>\n",
       "      <td>98199</td>\n",
       "      <td>High-Grade &gt;=8</td>\n",
       "    </tr>\n",
       "    <tr>\n",
       "      <th>5</th>\n",
       "      <td>98108</td>\n",
       "      <td>Low-Grade</td>\n",
       "    </tr>\n",
       "    <tr>\n",
       "      <th>26</th>\n",
       "      <td>98188</td>\n",
       "      <td>Low-Grade</td>\n",
       "    </tr>\n",
       "    <tr>\n",
       "      <th>25</th>\n",
       "      <td>98178</td>\n",
       "      <td>Low-Grade</td>\n",
       "    </tr>\n",
       "    <tr>\n",
       "      <th>24</th>\n",
       "      <td>98177</td>\n",
       "      <td>Low-Grade</td>\n",
       "    </tr>\n",
       "    <tr>\n",
       "      <th>23</th>\n",
       "      <td>98168</td>\n",
       "      <td>Low-Grade</td>\n",
       "    </tr>\n",
       "    <tr>\n",
       "      <th>22</th>\n",
       "      <td>98166</td>\n",
       "      <td>Low-Grade</td>\n",
       "    </tr>\n",
       "    <tr>\n",
       "      <th>21</th>\n",
       "      <td>98155</td>\n",
       "      <td>Low-Grade</td>\n",
       "    </tr>\n",
       "    <tr>\n",
       "      <th>20</th>\n",
       "      <td>98148</td>\n",
       "      <td>Low-Grade</td>\n",
       "    </tr>\n",
       "    <tr>\n",
       "      <th>19</th>\n",
       "      <td>98146</td>\n",
       "      <td>Low-Grade</td>\n",
       "    </tr>\n",
       "    <tr>\n",
       "      <th>18</th>\n",
       "      <td>98144</td>\n",
       "      <td>Low-Grade</td>\n",
       "    </tr>\n",
       "    <tr>\n",
       "      <th>17</th>\n",
       "      <td>98136</td>\n",
       "      <td>Low-Grade</td>\n",
       "    </tr>\n",
       "    <tr>\n",
       "      <th>16</th>\n",
       "      <td>98133</td>\n",
       "      <td>Low-Grade</td>\n",
       "    </tr>\n",
       "    <tr>\n",
       "      <th>15</th>\n",
       "      <td>98126</td>\n",
       "      <td>Low-Grade</td>\n",
       "    </tr>\n",
       "    <tr>\n",
       "      <th>27</th>\n",
       "      <td>98198</td>\n",
       "      <td>Low-Grade</td>\n",
       "    </tr>\n",
       "    <tr>\n",
       "      <th>13</th>\n",
       "      <td>98122</td>\n",
       "      <td>Low-Grade</td>\n",
       "    </tr>\n",
       "    <tr>\n",
       "      <th>1</th>\n",
       "      <td>98103</td>\n",
       "      <td>Low-Grade</td>\n",
       "    </tr>\n",
       "    <tr>\n",
       "      <th>11</th>\n",
       "      <td>98118</td>\n",
       "      <td>Low-Grade</td>\n",
       "    </tr>\n",
       "    <tr>\n",
       "      <th>10</th>\n",
       "      <td>98117</td>\n",
       "      <td>Low-Grade</td>\n",
       "    </tr>\n",
       "    <tr>\n",
       "      <th>9</th>\n",
       "      <td>98116</td>\n",
       "      <td>Low-Grade</td>\n",
       "    </tr>\n",
       "    <tr>\n",
       "      <th>8</th>\n",
       "      <td>98115</td>\n",
       "      <td>Low-Grade</td>\n",
       "    </tr>\n",
       "    <tr>\n",
       "      <th>2</th>\n",
       "      <td>98105</td>\n",
       "      <td>Low-Grade</td>\n",
       "    </tr>\n",
       "    <tr>\n",
       "      <th>3</th>\n",
       "      <td>98106</td>\n",
       "      <td>Low-Grade</td>\n",
       "    </tr>\n",
       "    <tr>\n",
       "      <th>4</th>\n",
       "      <td>98107</td>\n",
       "      <td>Low-Grade</td>\n",
       "    </tr>\n",
       "    <tr>\n",
       "      <th>14</th>\n",
       "      <td>98125</td>\n",
       "      <td>Low-Grade</td>\n",
       "    </tr>\n",
       "  </tbody>\n",
       "</table>\n",
       "</div>"
      ],
      "text/plain": [
       "    zipcode         cluster\n",
       "0     98102  High-Grade >=8\n",
       "12    98119  High-Grade >=8\n",
       "7     98112  High-Grade >=8\n",
       "6     98109  High-Grade >=8\n",
       "28    98199  High-Grade >=8\n",
       "5     98108       Low-Grade\n",
       "26    98188       Low-Grade\n",
       "25    98178       Low-Grade\n",
       "24    98177       Low-Grade\n",
       "23    98168       Low-Grade\n",
       "22    98166       Low-Grade\n",
       "21    98155       Low-Grade\n",
       "20    98148       Low-Grade\n",
       "19    98146       Low-Grade\n",
       "18    98144       Low-Grade\n",
       "17    98136       Low-Grade\n",
       "16    98133       Low-Grade\n",
       "15    98126       Low-Grade\n",
       "27    98198       Low-Grade\n",
       "13    98122       Low-Grade\n",
       "1     98103       Low-Grade\n",
       "11    98118       Low-Grade\n",
       "10    98117       Low-Grade\n",
       "9     98116       Low-Grade\n",
       "8     98115       Low-Grade\n",
       "2     98105       Low-Grade\n",
       "3     98106       Low-Grade\n",
       "4     98107       Low-Grade\n",
       "14    98125       Low-Grade"
      ]
     },
     "execution_count": 7,
     "metadata": {},
     "output_type": "execute_result"
    }
   ],
   "source": [
    "zip_stats.sort_values('cluster')[['zipcode', 'cluster']]"
   ]
  },
  {
   "cell_type": "code",
   "execution_count": null,
   "metadata": {},
   "outputs": [],
   "source": []
  }
 ],
 "metadata": {
  "kernelspec": {
   "display_name": ".venv",
   "language": "python",
   "name": "python3"
  },
  "language_info": {
   "codemirror_mode": {
    "name": "ipython",
    "version": 3
   },
   "file_extension": ".py",
   "mimetype": "text/x-python",
   "name": "python",
   "nbconvert_exporter": "python",
   "pygments_lexer": "ipython3",
   "version": "3.11.3"
  }
 },
 "nbformat": 4,
 "nbformat_minor": 4
}
